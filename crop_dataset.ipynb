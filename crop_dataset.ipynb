{
 "cells": [
  {
   "cell_type": "code",
   "execution_count": 21,
   "metadata": {},
   "outputs": [],
   "source": [
    "import os\n",
    "import pandas as pd\n",
    "from bird_detect import detect_birds_in_image\n",
    "from PIL import Image"
   ]
  },
  {
   "cell_type": "code",
   "execution_count": 13,
   "metadata": {},
   "outputs": [],
   "source": [
    "data = pd.read_csv(\"./dataset/train.txt\", sep=' ', names=['filename', 'label'])\n",
    "data['filepath'] = data['filename'].apply(lambda x: os.path.join('./dataset/Train/Train', x))"
   ]
  },
  {
   "cell_type": "code",
   "execution_count": null,
   "metadata": {},
   "outputs": [],
   "source": [
    "data"
   ]
  },
  {
   "cell_type": "code",
   "execution_count": null,
   "metadata": {},
   "outputs": [],
   "source": [
    "for row in data.iterrows():\n",
    "    row = row[1]\n",
    "    # print(row['filepath'])\n",
    "    image = Image.open(row['filepath']).convert('RGB')\n",
    "    bird = detect_birds_in_image(image)\n",
    "    try:\n",
    "        bird.save(os.path.join('./new_dataset/Train', row['filename']))\n",
    "    except:\n",
    "        print(\"check: \", bird, \" file: \", row['filename'])\n",
    "        image.save(os.path.join('./new_dataset/Train', row['filename']))"
   ]
  },
  {
   "cell_type": "code",
   "execution_count": 31,
   "metadata": {},
   "outputs": [],
   "source": [
    "tmp = Image.open(\"./dataset/Train/Train/Rock_Wren_0009_2562496809.jpg\").convert(\"RGB\")\n",
    "tmp.show()"
   ]
  },
  {
   "cell_type": "code",
   "execution_count": 28,
   "metadata": {},
   "outputs": [],
   "source": [
    "from bird_detect import detect_birds_in_image\n",
    "test = detect_birds_in_image(tmp)\n"
   ]
  },
  {
   "cell_type": "code",
   "execution_count": null,
   "metadata": {},
   "outputs": [],
   "source": [
    "data[\"label\"].value_counts()"
   ]
  },
  {
   "cell_type": "code",
   "execution_count": 36,
   "metadata": {},
   "outputs": [],
   "source": [
    "data_test = pd.read_csv(\"./dataset/test.txt\", sep=' ', names=['filename', 'label'])\n",
    "data_test['filepath'] = data_test['filename'].apply(lambda x: os.path.join('./dataset/Test/Test', x))"
   ]
  },
  {
   "cell_type": "code",
   "execution_count": null,
   "metadata": {},
   "outputs": [],
   "source": [
    "data_test"
   ]
  },
  {
   "cell_type": "code",
   "execution_count": null,
   "metadata": {},
   "outputs": [],
   "source": [
    "for row in data_test.iterrows():\n",
    "    row = row[1]\n",
    "    # print(row['filepath'])\n",
    "    image = Image.open(row['filepath']).convert('RGB')\n",
    "    bird = detect_birds_in_image(image)\n",
    "    try:\n",
    "        bird.save(os.path.join('./new_dataset/Test', row['filename']))\n",
    "    except:\n",
    "        print(\"check: \", bird, \" file: \", row['filename'])\n",
    "        image.save(os.path.join('./new_dataset/Test', row['filename']))"
   ]
  }
 ],
 "metadata": {
  "kernelspec": {
   "display_name": "comb",
   "language": "python",
   "name": "python3"
  },
  "language_info": {
   "codemirror_mode": {
    "name": "ipython",
    "version": 3
   },
   "file_extension": ".py",
   "mimetype": "text/x-python",
   "name": "python",
   "nbconvert_exporter": "python",
   "pygments_lexer": "ipython3",
   "version": "3.11.9"
  }
 },
 "nbformat": 4,
 "nbformat_minor": 2
}
